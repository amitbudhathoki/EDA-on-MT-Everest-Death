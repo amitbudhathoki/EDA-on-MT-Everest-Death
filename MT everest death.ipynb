{
 "cells": [
  {
   "cell_type": "code",
   "execution_count": 1,
   "id": "832d68fd-a1ef-490a-824e-0c85c9e8dc99",
   "metadata": {},
   "outputs": [],
   "source": [
    "import pandas as pd\n",
    "import numpy as np\n",
    "import matplotlib.pyplot as plt\n",
    "import seaborn as sns  "
   ]
  },
  {
   "cell_type": "markdown",
   "id": "c6540b80-cd7c-4151-9c3f-729b326dc3c6",
   "metadata": {},
   "source": [
    "# First View of the Data"
   ]
  },
  {
   "cell_type": "code",
   "execution_count": 2,
   "id": "2d65badd-e582-4380-9ff3-108abdfc731c",
   "metadata": {},
   "outputs": [
    {
     "data": {
      "text/html": [
       "<div>\n",
       "<style scoped>\n",
       "    .dataframe tbody tr th:only-of-type {\n",
       "        vertical-align: middle;\n",
       "    }\n",
       "\n",
       "    .dataframe tbody tr th {\n",
       "        vertical-align: top;\n",
       "    }\n",
       "\n",
       "    .dataframe thead th {\n",
       "        text-align: right;\n",
       "    }\n",
       "</style>\n",
       "<table border=\"1\" class=\"dataframe\">\n",
       "  <thead>\n",
       "    <tr style=\"text-align: right;\">\n",
       "      <th></th>\n",
       "      <th>No.</th>\n",
       "      <th>Name</th>\n",
       "      <th>Date</th>\n",
       "      <th>Age</th>\n",
       "      <th>Expedition</th>\n",
       "      <th>Nationality</th>\n",
       "      <th>Cause of death</th>\n",
       "      <th>Location</th>\n",
       "    </tr>\n",
       "  </thead>\n",
       "  <tbody>\n",
       "    <tr>\n",
       "      <th>0</th>\n",
       "      <td>1</td>\n",
       "      <td>Dorje</td>\n",
       "      <td>June 7, 1922</td>\n",
       "      <td>NaN</td>\n",
       "      <td>1922 British Mount Everest Expedition</td>\n",
       "      <td>Nepal</td>\n",
       "      <td>Avalanche</td>\n",
       "      <td>Below North Col</td>\n",
       "    </tr>\n",
       "    <tr>\n",
       "      <th>1</th>\n",
       "      <td>2</td>\n",
       "      <td>Lhakpa</td>\n",
       "      <td>June 7, 1922</td>\n",
       "      <td>NaN</td>\n",
       "      <td>1922 British Mount Everest Expedition</td>\n",
       "      <td>Nepal</td>\n",
       "      <td>Avalanche</td>\n",
       "      <td>Below North Col</td>\n",
       "    </tr>\n",
       "    <tr>\n",
       "      <th>2</th>\n",
       "      <td>3</td>\n",
       "      <td>Norbu</td>\n",
       "      <td>June 7, 1922</td>\n",
       "      <td>NaN</td>\n",
       "      <td>1922 British Mount Everest Expedition</td>\n",
       "      <td>Nepal</td>\n",
       "      <td>Avalanche</td>\n",
       "      <td>Below North Col</td>\n",
       "    </tr>\n",
       "    <tr>\n",
       "      <th>3</th>\n",
       "      <td>4</td>\n",
       "      <td>Pasang</td>\n",
       "      <td>June 7, 1922</td>\n",
       "      <td>NaN</td>\n",
       "      <td>1922 British Mount Everest Expedition</td>\n",
       "      <td>Nepal</td>\n",
       "      <td>Avalanche</td>\n",
       "      <td>Below North Col</td>\n",
       "    </tr>\n",
       "    <tr>\n",
       "      <th>4</th>\n",
       "      <td>5</td>\n",
       "      <td>Pema</td>\n",
       "      <td>June 7, 1922</td>\n",
       "      <td>NaN</td>\n",
       "      <td>1922 British Mount Everest Expedition</td>\n",
       "      <td>Nepal</td>\n",
       "      <td>Avalanche</td>\n",
       "      <td>Below North Col</td>\n",
       "    </tr>\n",
       "  </tbody>\n",
       "</table>\n",
       "</div>"
      ],
      "text/plain": [
       "   No.    Name          Date  Age                             Expedition  \\\n",
       "0    1   Dorje  June 7, 1922  NaN  1922 British Mount Everest Expedition   \n",
       "1    2  Lhakpa  June 7, 1922  NaN  1922 British Mount Everest Expedition   \n",
       "2    3   Norbu  June 7, 1922  NaN  1922 British Mount Everest Expedition   \n",
       "3    4  Pasang  June 7, 1922  NaN  1922 British Mount Everest Expedition   \n",
       "4    5    Pema  June 7, 1922  NaN  1922 British Mount Everest Expedition   \n",
       "\n",
       "  Nationality Cause of death         Location  \n",
       "0       Nepal      Avalanche  Below North Col  \n",
       "1       Nepal      Avalanche  Below North Col  \n",
       "2       Nepal      Avalanche  Below North Col  \n",
       "3       Nepal      Avalanche  Below North Col  \n",
       "4       Nepal      Avalanche  Below North Col  "
      ]
     },
     "execution_count": 2,
     "metadata": {},
     "output_type": "execute_result"
    }
   ],
   "source": [
    "data = pd.read_csv(r\"D:\\Projects\\EDA on MT everest climbing death\\archive\\mount_everest_deaths.csv\")\n",
    "data.head()"
   ]
  },
  {
   "cell_type": "code",
   "execution_count": 3,
   "id": "8fc28a6e-8bd7-4f19-9364-d0b8bd9e638c",
   "metadata": {},
   "outputs": [
    {
     "data": {
      "text/plain": [
       "(310, 8)"
      ]
     },
     "execution_count": 3,
     "metadata": {},
     "output_type": "execute_result"
    }
   ],
   "source": [
    "data.shape"
   ]
  },
  {
   "cell_type": "code",
   "execution_count": 4,
   "id": "0cb6fe99-bdb3-4bb6-b725-b9fdf5e1e118",
   "metadata": {},
   "outputs": [
    {
     "name": "stdout",
     "output_type": "stream",
     "text": [
      "<class 'pandas.core.frame.DataFrame'>\n",
      "RangeIndex: 310 entries, 0 to 309\n",
      "Data columns (total 8 columns):\n",
      " #   Column          Non-Null Count  Dtype  \n",
      "---  ------          --------------  -----  \n",
      " 0   No.             310 non-null    int64  \n",
      " 1   Name            310 non-null    object \n",
      " 2   Date            310 non-null    object \n",
      " 3   Age             160 non-null    float64\n",
      " 4   Expedition      271 non-null    object \n",
      " 5   Nationality     309 non-null    object \n",
      " 6   Cause of death  296 non-null    object \n",
      " 7   Location        291 non-null    object \n",
      "dtypes: float64(1), int64(1), object(6)\n",
      "memory usage: 19.5+ KB\n"
     ]
    }
   ],
   "source": [
    "data.info()"
   ]
  },
  {
   "cell_type": "markdown",
   "id": "55359894-78f1-4ac6-a2ae-58f3f8d7758a",
   "metadata": {},
   "source": [
    "## Feature Engineering"
   ]
  },
  {
   "cell_type": "markdown",
   "id": "93d22144-0576-495b-9e22-bc08f5fce607",
   "metadata": {},
   "source": [
    "### Seperating the Numerical Columns with the datasets"
   ]
  },
  {
   "cell_type": "code",
   "execution_count": 5,
   "id": "900ec02e-753f-4619-8c18-199c88bdd849",
   "metadata": {},
   "outputs": [
    {
     "data": {
      "text/plain": [
       "No.      0\n",
       "Age    150\n",
       "dtype: int64"
      ]
     },
     "execution_count": 5,
     "metadata": {},
     "output_type": "execute_result"
    }
   ],
   "source": [
    "num_categories = [feature for feature in data.columns if data[feature].dtype != \"O\"]\n",
    "data[num_categories].isnull().sum()"
   ]
  },
  {
   "cell_type": "markdown",
   "id": "a1d92baf-d61b-4603-9fee-6fd62cf71144",
   "metadata": {},
   "source": [
    "Finding the Percentage of Misssing Values"
   ]
  },
  {
   "cell_type": "code",
   "execution_count": 6,
   "id": "d16c8f38-ebf0-4ae6-9207-4b281a90c8b9",
   "metadata": {},
   "outputs": [
    {
     "data": {
      "text/plain": [
       "Age               0.483871\n",
       "Cause of death    0.045161\n",
       "Location          0.061290\n",
       "dtype: float64"
      ]
     },
     "execution_count": 6,
     "metadata": {},
     "output_type": "execute_result"
    }
   ],
   "source": [
    "df=pd.read_csv(r\"D:\\Projects\\EDA on MT everest climbing death\\archive\\mount_everest_deaths.csv\",usecols=['Age','Cause of death','Location'])\n",
    "df.head()\n",
    "df.isnull().mean()"
   ]
  },
  {
   "cell_type": "markdown",
   "id": "12c8fdfd-3fb3-4e5f-b9b6-73d22d1bcadd",
   "metadata": {},
   "source": [
    "#### Replacing the NaN values with the Random Sample Imputation"
   ]
  },
  {
   "cell_type": "markdown",
   "id": "a6ed88c5-8844-4ec9-84b3-df2929d54c75",
   "metadata": {},
   "source": [
    "#### Random sample imputation"
   ]
  },
  {
   "attachments": {},
   "cell_type": "markdown",
   "id": "d753ad29-9f60-48cc-b24b-8e0554b46630",
   "metadata": {},
   "source": [
    "\r\n",
    "### Random sample imputation\r\n",
    "Random sample imputation consists of taking random observation from the dataset and we use this observation to replace the nan values\r\n",
    "\r\n",
    "When should it be used? It assumes that the data are missing completely at [random(MCAR)](https://www.ncbi.nlm.nih.gov/books/NBK493614/)\r\n",
    "\r\n",
    "I have first applied the most used NaN value replacing type which is Mean/Median but what is shown given below:\r\n",
    "\r\n",
    "![](https://raw.githubusercontent.com/everydaycodings/Data-Science-End-To-End-Notebook-Project/master/output/input_nann.png)\r\n",
    "\r\n",
    "I show that If I use the `Median()` function I get a difference in actual age and median age as you can see in the data.\r\n",
    "\r\n",
    "So I tried using `Random sample imputation` now you can see that how Age_random is overlapping the Age(actual Age)\r\n",
    "\r\n",
    "So I decided to use `Random sample imputation`\r\n",
    "\r\n",
    "#### If you want  code for above plot\r\n",
    "```bash\r\n",
    "  def impute_nan(df,variable,median):\r\n",
    "    df[variable+\"_median\"]=df[variable].fillna(median)\r\n",
    "    df[variable+\"_random\"]=df[variable]\r\n",
    "    \r\n",
    "    ##It will have the random sample to fill the nan\r\n",
    "    random_sample=df[variable].dropna().sample(df[variable].isnull().sum(),random_state=0)\r\n",
    "    \r\n",
    "    ##pandas need to have same index in order to merge the dataset\r\n",
    "    random_sample.index=df[df[variable].isnull()].index   \r\n",
    "    \r\n",
    "    df.loc[df[variable].isnull(),variable+'_random']=random_sample\r\n",
    "```\r\n",
    "\r\n",
    "```bash\r\n",
    "impute_nan(df, \"Age\", median)\r\n",
    "```"
   ]
  },
  {
   "cell_type": "code",
   "execution_count": 7,
   "id": "599c0d94-cd28-4349-bc41-2e632a6cfe89",
   "metadata": {},
   "outputs": [
    {
     "ename": "NameError",
     "evalue": "name 'median' is not defined",
     "output_type": "error",
     "traceback": [
      "\u001b[1;31m---------------------------------------------------------------------------\u001b[0m",
      "\u001b[1;31mNameError\u001b[0m                                 Traceback (most recent call last)",
      "Cell \u001b[1;32mIn[7], line 12\u001b[0m\n\u001b[0;32m      9\u001b[0m     random_sample\u001b[38;5;241m.\u001b[39mindex\u001b[38;5;241m=\u001b[39mdf[df[variable]\u001b[38;5;241m.\u001b[39misnull()]\u001b[38;5;241m.\u001b[39mindex   \n\u001b[0;32m     11\u001b[0m     df\u001b[38;5;241m.\u001b[39mloc[df[variable]\u001b[38;5;241m.\u001b[39misnull(),variable\u001b[38;5;241m+\u001b[39m\u001b[38;5;124m'\u001b[39m\u001b[38;5;124m_random\u001b[39m\u001b[38;5;124m'\u001b[39m]\u001b[38;5;241m=\u001b[39mrandom_sample\n\u001b[1;32m---> 12\u001b[0m impute_nan(df, \u001b[38;5;124m\"\u001b[39m\u001b[38;5;124mAge\u001b[39m\u001b[38;5;124m\"\u001b[39m, \u001b[43mmedian\u001b[49m)\n",
      "\u001b[1;31mNameError\u001b[0m: name 'median' is not defined"
     ]
    }
   ],
   "source": [
    "def impute_nan(df,variable,median):\n",
    "    df[variable+\"_median\"]=df[variable].fillna(median)\n",
    "    df[variable+\"_random\"]=df[variable]\n",
    "\n",
    "    ##It will have the random sample to fill the nan\n",
    "    random_sample=df[variable].dropna().sample(df[variable].isnull().sum(),random_state=0)\n",
    "\n",
    "    ##pandas need to have same index in order to merge the dataset\n",
    "    random_sample.index=df[df[variable].isnull()].index   \n",
    "\n",
    "    df.loc[df[variable].isnull(),variable+'_random']=random_sample\n",
    "impute_nan(df, \"Age\", median)"
   ]
  },
  {
   "cell_type": "code",
   "execution_count": null,
   "id": "c9d5fec7-6c78-4cf9-b1a0-964398f7b5bc",
   "metadata": {},
   "outputs": [],
   "source": []
  }
 ],
 "metadata": {
  "kernelspec": {
   "display_name": "Python 3 (ipykernel)",
   "language": "python",
   "name": "python3"
  },
  "language_info": {
   "codemirror_mode": {
    "name": "ipython",
    "version": 3
   },
   "file_extension": ".py",
   "mimetype": "text/x-python",
   "name": "python",
   "nbconvert_exporter": "python",
   "pygments_lexer": "ipython3",
   "version": "3.11.4"
  }
 },
 "nbformat": 4,
 "nbformat_minor": 5
}
